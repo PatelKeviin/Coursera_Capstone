{
 "cells": [
  {
   "cell_type": "markdown",
   "metadata": {},
   "source": [
    "<h1> Coursera Capstone Project - The battle of Neighborhoods </h1>"
   ]
  },
  {
   "cell_type": "markdown",
   "metadata": {},
   "source": [
    "<h2>1.&emsp;Business Problem</h2>\n",
    "People of all kinds from across the globe flock to Melbourne, Australia for various reasons, with some of them aspiring to make this incredible place a home of their own. With varying budgets and needs, people find find it very hard to discover a suitable place and neihborhood to accomodate them and their loved ones. Due to high cost of living, Melbourne housing can be a nightmare for most. Melbourne is currently experiencing a housing bubble (some experts say it may burst soon). A potential client aspiring to buy a suitable property would like to become knowledgeable about the ongoing pricing to make a conscious decision. Furthermore, he/she would like to consider several factors like proximity to schools, medical care, restuarants, other liesure amenities to accomodate his/her familial needs.\n",
    "\n",
    "With Melbourne housing market data coupled with data science techniques, one can derive useful insights and information about current pricing in different suburbs of Melbourne while considering other factors of his/her choice. This would help a potential client to make an informed decision about owning a property in a suitable location in Melbourne.\n",
    "\n",
    "<h3>Target audience</h3>\n",
    "Potential clients who are looking to buy property in Melbourne, but are skeptical due to lacking knowledge and volatile market conditions.\n",
    "\n",
    "<h3>Stakeholders</h3>\n",
    "1. Government of Australia <br>\n",
    "2. Real estate agents <br>\n",
    "3. Property sellers <br>\n",
    "4. Property buyers <br>"
   ]
  },
  {
   "cell_type": "markdown",
   "metadata": {},
   "source": [
    "<h2>2.&emsp;Data</h2>\n",
    "Following are the sources of data/datasets used for this data analysis project: <br>\n",
    "\n",
    "- __Mebourne Housing Dataset__ <br>\n",
    "This data was scraped from publicly available results posted every week from *Domain.com.au*. The dataset has been cleaned, and now it available for us folks (data analysts) to do some data analysis magic. <br><br>\n",
    "Author: Tony Pino <br><br>\n",
    "License: [Attribution-NonCommercial-ShareAlike 4.0 (CC BY-NC-SA 4.0)](https://creativecommons.org/licenses/by-nc-sa/4.0/) <br><br>\n",
    "Description: <br><br>\n",
    "Suburb: Suburb, Address: Address, Rooms: Number of rooms, Price: Price in Australian dollars, Method: S - property sold; SP - property sold prior; PI - property passed in; PN - sold prior not disclosed; SN - sold not disclosed; NB - no bid; VB - vendor bid; W - withdrawn prior to auction; SA - sold after auction; SS - sold after auction price not disclosed; N/A - price or highest bid not available, Type: br - bedroom(s); h - house,cottage,villa, semi,terrace; u - unit, duplex; t - townhouse; dev site - development site; o res - other residential, SellerG: Real Estate Agent, Date: Date sold, Distance: Distance from CBD in Kilometres, Regionname: General Region (West, North West, North, North east ...etc), Propertycount: Number of properties that exist in the suburb, Bedroom2 : Scraped # of Bedrooms (from different source), Bathroom: Number of Bathrooms, Car: Number of carspots, Landsize: Land Size in Metres, BuildingArea: Building Size in Metres, YearBuilt: Year the house was built, CouncilArea: Governing council for the area, Lattitude: Self explanitory, Longtitude: Self explanitory\n",
    "\n",
    "&emsp;&emsp;Link: [Kaggle link](https://www.kaggle.com/anthonypino/melbourne-housing-market#Melbourne_housing_FULL.csv) <br>\n",
    "\n",
    "- __Foursquare Locatation Data__ <br>\n",
    "Description: To determine the various amentities in the proximity of a desired location, Foursquare location data is used. <br>\n",
    "\n",
    "&emsp;&emsp;Link: [Foursquare website](https://foursquare.com/) <br>\n"
   ]
  },
  {
   "cell_type": "code",
   "execution_count": null,
   "metadata": {},
   "outputs": [],
   "source": []
  }
 ],
 "metadata": {
  "kernelspec": {
   "display_name": "Python 3",
   "language": "python",
   "name": "python3"
  },
  "language_info": {
   "codemirror_mode": {
    "name": "ipython",
    "version": 3
   },
   "file_extension": ".py",
   "mimetype": "text/x-python",
   "name": "python",
   "nbconvert_exporter": "python",
   "pygments_lexer": "ipython3",
   "version": "3.7.4"
  }
 },
 "nbformat": 4,
 "nbformat_minor": 4
}
